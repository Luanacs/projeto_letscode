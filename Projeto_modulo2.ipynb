{
 "cells": [
  {
   "cell_type": "markdown",
   "metadata": {},
   "source": [
    "## DESAFIO DA DISCIPLINA\n",
    "\n",
    "#### Contexto - Problema: Você foi designado para fazer o tratamento dos dados de um formulário na empresa em que trabalha. O campo salário do formulário, que deveria ser númerico, não está padronizado corretamente, tem numeros escritos por extenso. Seu trabalho é criar uma lib que receba um numero escrito por extenso e converta em valor numérico. \n",
    "\n",
    "- Exemplos: \n",
    "\n",
    "- Entrada: Mil duzentos e cinquenta ---- Saída: 1250\n",
    "\n",
    "- Entrada: 1k ---- Saída: 1000\n",
    "\n",
    "- Entrada: 1.3k ---- Saída: 1300"
   ]
  },
  {
   "cell_type": "code",
   "execution_count": 36,
   "metadata": {},
   "outputs": [],
   "source": [
    "dict_unidades={'um':1,'dois':2,'tres':3,'quatro':4,'cinco':5,'seis':6,'sete':7,'oito':8,'nove':9,'dez':10,'onze':11,'doze':12,'treze':13,'quatorze':14,'catorze':14,'quinze':15,'dezesseis':16,'dezessete':17,'dezoito':18,'dezenove':19}\n",
    "dict_dezenas={'vinte':20,'trinta':30,'quarenta':40,'cinquenta':50, 'sessenta':60, 'setenta':70, 'oitenta':80, 'noventa':90}\n",
    "dict_centenas={'cem':100,'cento':100,'duzentos':200,'trezentos':300,'quatrocentos':400,'quinhentos':500,'seiscento':600,'setecentos':700,'oitocentos':800,'novecentos':900}\n",
    "dict_unidades_medida={'mil':1000,'milhao':1000000, 'milhoes':1000000,'bilhao':1000000000,'bilhoes':1000000000,'k':1000,'g':1000000,'t':1000000000}\n",
    "\n",
    "from unidecode import unidecode\n",
    "\n",
    "und_medida=1\n",
    "centena=1\n",
    "cent=1\n",
    "dezena=1\n",
    "unidade=1\n",
    "\n",
    "\n"
   ]
  },
  {
   "cell_type": "code",
   "execution_count": 56,
   "metadata": {},
   "outputs": [],
   "source": [
    "def entrada(string):\n",
    "    entrada=unidecode(string).lower()\n",
    "    entrada=entrada.split(' ')\n",
    "    return entrada\n",
    "\n",
    "\n",
    "def verificador_und_medida(entrada):\n",
    "    und_medida=[]\n",
    "    for element in entrada:\n",
    "        for key,value in dict_unidades_medida.items():\n",
    "            if element==key:\n",
    "                und_medida.append(value)\n",
    "    return und_medida\n",
    "\n",
    "def verificador_centenas(entrada):\n",
    "    cent=[]\n",
    "    for element in entrada:\n",
    "        for key,value in dict_centenas.items():\n",
    "            if element==key:\n",
    "                cent.append(value)  \n",
    "    return cent\n",
    "\n",
    "def verificador_dezenas(entrada):\n",
    "    dezena=[]\n",
    "    for element in entrada:\n",
    "        for key,value in dict_dezenas.items():\n",
    "            if element==key:\n",
    "                dezena.append(value)\n",
    "    return dezena\n",
    "\n",
    "def verificador_unidades(entrada):\n",
    "     unidade=[]   \n",
    "     for element in entrada:\n",
    "        for key,value in dict_unidades.items():\n",
    "            if element==key:\n",
    "                unidade.append(value)\n",
    "     return unidade\n",
    "\n"
   ]
  },
  {
   "cell_type": "code",
   "execution_count": 38,
   "metadata": {},
   "outputs": [
    {
     "name": "stdout",
     "output_type": "stream",
     "text": [
      "['vinte', 'e', 'cinco', 'bilhoes', 'trezentos', 'e', 'vinte', 'e', 'cinco', 'milhoes', 'duzentos', 'e', 'quarenta', 'e', 'cinco', 'mil', 'cento', 'e', 'trinta', 'e', 'dois']\n",
      "[1000000000, 1000000, 1000]\n",
      "[300, 200, 100]\n",
      "[20, 20, 40, 30]\n",
      "[5, 5, 5, 2]\n"
     ]
    }
   ],
   "source": [
    "entrada=entrada('vinte e cinco bilhões trezentos e vinte e cinco milhões duzentos e quarenta e cinco mil cento e trinta e dois')\n",
    "print(entrada)\n",
    "\n",
    "print(verificador_und_medida(entrada))\n",
    "print(verificador_centenas(entrada))\n",
    "print(verificador_dezenas(entrada))\n",
    "print(verificador_unidades(entrada))"
   ]
  },
  {
   "cell_type": "code",
   "execution_count": 105,
   "metadata": {},
   "outputs": [
    {
     "name": "stdout",
     "output_type": "stream",
     "text": [
      "['vinte', 'e', 'cinco', 'bilhoes', 'trezentos', 'e', 'vinte', 'e', 'cinco', 'milhoes', 'duzentos', 'e', 'quarenta', 'e', 'cinco', 'mil', 'cento', 'e', 'trinta', 'e', 'dois']\n",
      "[3, 9, 15]\n",
      "[1000000000, 1000000, 1000]\n",
      "[16, 17, 18, 19, 20]\n",
      "25\n",
      "325\n",
      "245\n",
      "132\n",
      "25325245132\n"
     ]
    }
   ],
   "source": [
    "def entrada(string):\n",
    "    entrada=unidecode(string).lower()\n",
    "    entrada=entrada.split(' ')\n",
    "    return entrada\n",
    "\n",
    "\n",
    "#Programa\n",
    "#entrada_usuario=input('Digite o valor do seu salário')\n",
    "entrada_usuario='vinte e cinco bilhões trezentos e vinte e cinco milhões duzentos e quarenta e cinco mil cento e trinta e dois'\n",
    "\n",
    "#1 - Transformar a entrada em lista e retirar caracteres\n",
    "entrada=entrada(entrada_usuario)\n",
    "print(entrada)\n",
    "#2 \n",
    "und_medida=[]\n",
    "indices=[]\n",
    "for element in entrada:\n",
    "    for key,value in dict_unidades_medida.items():\n",
    "        if element==key:\n",
    "            indices.append(entrada.index(element))\n",
    "            und_medida.append(value)    \n",
    "print(indices)\n",
    "print(und_medida)\n",
    "\n",
    "lista_indice1=[x+1 for x in range(-1, indices[0]-1)]\n",
    "lista_indice2=[x+1 for x in range(indices[0], indices[1]-1)]\n",
    "lista_indice3=[x+1 for x in range(indices[1], indices[2]-1)]\n",
    "lista_indice4=[x+1 for x in range(indices[2], len(entrada)-1)]\n",
    "print(lista_indice4)\n",
    "\n",
    "\n",
    "#3\n",
    "primeira=[]\n",
    "for j in lista_indice1:\n",
    "    if entrada[j] in dict_centenas.keys():\n",
    "        primeira.append(dict_centenas[entrada[j]])\n",
    "    elif entrada[j] in dict_dezenas.keys():\n",
    "        primeira.append(dict_dezenas[entrada[j]])\n",
    "    elif entrada[j] in dict_unidades.keys():\n",
    "        primeira.append(dict_unidades[entrada[j]])     \n",
    "    j+=1\n",
    "print(sum(primeira))\n",
    "first=sum(primeira)*und_medida[0]\n",
    "\n",
    "segunda=[]\n",
    "for k in lista_indice2:\n",
    "    if entrada[k] in dict_centenas.keys():\n",
    "        segunda.append(dict_centenas[entrada[k]])\n",
    "    elif entrada[k] in dict_dezenas.keys():\n",
    "        segunda.append(dict_dezenas[entrada[k]])\n",
    "    elif entrada[k] in dict_unidades.keys():\n",
    "        segunda.append(dict_unidades[entrada[k]])     \n",
    "print(sum(segunda))\n",
    "second=sum(segunda)*und_medida[1]\n",
    "\n",
    "terceira=[]\n",
    "for m in lista_indice3: \n",
    "    if entrada[m] in dict_centenas.keys():\n",
    "        terceira.append(dict_centenas[entrada[m]])\n",
    "    elif entrada[m] in dict_dezenas.keys():\n",
    "        terceira.append(dict_dezenas[entrada[m]])\n",
    "    elif entrada[m] in dict_unidades.keys():\n",
    "        terceira.append(dict_unidades[entrada[m]])   \n",
    "print(sum(terceira))\n",
    "third=sum(terceira)*und_medida[2]\n",
    "\n",
    "quarta=[]\n",
    "for n in lista_indice4:\n",
    "    if entrada[n] in dict_centenas.keys():\n",
    "        quarta.append(dict_centenas[entrada[n]])\n",
    "    elif entrada[n] in dict_dezenas.keys():\n",
    "        quarta.append(dict_dezenas[entrada[n]])\n",
    "    elif entrada[n] in dict_unidades.keys():\n",
    "        quarta.append(dict_unidades[entrada[n]])   \n",
    "print(sum(quarta))\n",
    "fourth=sum(quarta)*1  \n",
    "\n",
    "print(first+second+third+fourth)\n"
   ]
  }
 ],
 "metadata": {
  "kernelspec": {
   "display_name": "Python 3.10.7 64-bit",
   "language": "python",
   "name": "python3"
  },
  "language_info": {
   "codemirror_mode": {
    "name": "ipython",
    "version": 3
   },
   "file_extension": ".py",
   "mimetype": "text/x-python",
   "name": "python",
   "nbconvert_exporter": "python",
   "pygments_lexer": "ipython3",
   "version": "3.10.7"
  },
  "orig_nbformat": 4,
  "vscode": {
   "interpreter": {
    "hash": "5da99af37479dc12aad18d2dd68f57a1750d5b3bf79ff50ca5e8c56abb2c7ff6"
   }
  }
 },
 "nbformat": 4,
 "nbformat_minor": 2
}
