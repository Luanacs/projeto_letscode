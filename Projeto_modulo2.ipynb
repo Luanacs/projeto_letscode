{
 "cells": [
  {
   "cell_type": "markdown",
   "metadata": {},
   "source": [
    "## DESAFIO DA DISCIPLINA\n",
    "\n",
    "#### Contexto - Problema: Você foi designado para fazer o tratamento dos dados de um formulário na empresa em que trabalha. O campo salário do formulário, que deveria ser númerico, não está padronizado corretamente, tem numeros escritos por extenso. Seu trabalho é criar uma lib que receba um numero escrito por extenso e converta em valor numérico. \n",
    "\n",
    "- Exemplos: \n",
    "\n",
    "- Entrada: Mil duzentos e cinquenta ---- Saída: 1250\n",
    "\n",
    "- Entrada: 1k ---- Saída: 1000\n",
    "\n",
    "- Entrada: 1.3k ---- Saída: 1300"
   ]
  },
  {
   "cell_type": "code",
   "execution_count": 134,
   "metadata": {},
   "outputs": [],
   "source": [
    "dict_numerais={'um':1,'dois':2,'tres':3,'quatro':4,'cinco':5,'seis':6,'sete':7,'oito':8,'nove':9,'dez':10,'onze':11,'doze':12,'treze':13,'quatorze':14,'catorze':14,'quinze':15,'dezesseis':16,'dezessete':17,'dezoito':18,'dezenove':19, 'vinte':20,'trinta':30,'quarenta':40,'cinquenta':50, 'sessenta':60, 'setenta':70, 'oitenta':80, 'noventa':90,'cem':100,'cento':100,'duzentos':200,'trezentos':300,'quatrocentos':400,'quinhentos':500,'seiscentos':600,'setecentos':700,'oitocentos':800,'novecentos':900}\n",
    "\n",
    "dict_unidades_medida={'mil':1000,'milhao':1000000, 'milhoes':1000000,'bilhao':1000000000,'bilhoes':1000000000,'k':1000,'m':1000000,'g':1000000000}\n",
    "\n",
    "from unidecode import unidecode\n",
    "import re"
   ]
  },
  {
   "cell_type": "code",
   "execution_count": 292,
   "metadata": {},
   "outputs": [],
   "source": [
    "#Verificador se na entrada digitado pelo usuário tem algum dígito:\n",
    "def verificador_digitos(string):\n",
    "    for caracter in string:\n",
    "        if caracter.isdigit():\n",
    "            return True\n",
    "        else:\n",
    "            return False  \n",
    "\n",
    "#Verificar se na entrada do usuário existe algum ponto ou vírgula\n",
    "def verificador_ponto_virgula(string):\n",
    "    x = re.findall(\".\", string)\n",
    "    y = re.findall(\",\",string)\n",
    "    if (x and y)!=[]:\n",
    "        return True\n",
    "    else:\n",
    "        return False\n",
    "\n",
    "#Função para identificar se a função tem ponto ou vírgula e substituir \n",
    "def identificador_posicao_ponto_virgula(string):\n",
    "    if '.' in string:\n",
    "       x = (re.search(\".\", string)).start()\n",
    "    elif ',' in string:\n",
    "        x = (re.search(\",\", string)).start()\n",
    "    return x\n",
    "\n",
    "#Função para criar lista do input e retirar acentos (entradas sem dígitos)\n",
    "def entrada(string):\n",
    "    entrada=unidecode(string).lower()\n",
    "    entrada=entrada.split(' ')\n",
    "    return entrada\n",
    "\n",
    "#Função para criar lista e retirar acentos (entradas com dígitos)\n",
    "\n"
   ]
  },
  {
   "cell_type": "code",
   "execution_count": 104,
   "metadata": {},
   "outputs": [],
   "source": [
    "# string1='mil duzentos e trinta e dois'\n",
    "# string1='trinta e dois bilhões duzentos e vinte e cinco milhões quatrocentos e trinta e dois mil cento e doze'\n",
    "# string1='quinhentos e vinte e cinco milhoes seiscentos e quarenta e cinco mil oitocentos e vinte'\n",
    "# string1='cento e vinte e sete mil e vinte e cinco'\n",
    "# string1='duzentos e trinta e dois'\n",
    "# string1='quarenta e sete'\n",
    "# string1='oito mil oitocentos e quarenta e quatro'\n",
    "# string1='treze mil e cinco'\n",
    "# string1='nove mil seiscentos e sete'\n",
    "# string1='seis mil novecentos e oitenta e oito'\n",
    "# string1='novecentos e setenta e quatro'\n",
    "string1='trezentos e trinta'\n"
   ]
  },
  {
   "cell_type": "code",
   "execution_count": 112,
   "metadata": {},
   "outputs": [
    {
     "name": "stdout",
     "output_type": "stream",
     "text": [
      "Input do usuario: ['trezentos', 'e', 'trinta']\n",
      "330\n"
     ]
    }
   ],
   "source": [
    "#Tirando os caracteres e acentos do input do usuario\n",
    "list_entrada=entrada(string1)\n",
    "print(f'Input do usuario: {list_entrada}')\n",
    "\n",
    "#Unidades de medidas presente na entrada\n",
    "list_und_medidas=sorted([v for k, v in dict_unidades_medida.items() for element in list_entrada if k==element],reverse=True)\n",
    "\n",
    "#Indices das unidades de medidas encontradas\n",
    "list_indices=sorted([list_entrada.index(element) for k, v in dict_unidades_medida.items() for element in list_entrada if k==element])\n",
    "\n",
    "#iniciando as condicionais \n",
    "if len(list_und_medidas)!=0:\n",
    "    #size=tamanho da lista de indices/ n vai receber o valor dos índices da minha list_indices\n",
    "    size=len(list_indices)\n",
    "    contador=0\n",
    "    i=0\n",
    "    list_sum=[]\n",
    "    somas=[]\n",
    "    somas2=[]\n",
    "    while contador<size:\n",
    "        n=list_indices[contador]\n",
    "        if n!=0:\n",
    "            while i < n:\n",
    "                for k,v in dict_numerais.items():\n",
    "                    if list_entrada[i]==k:\n",
    "                        list_sum.append(v)\n",
    "                i+=1\n",
    "            somas.append(sum(list_sum))\n",
    "        else:\n",
    "            for k,v in dict_unidades_medida.items():\n",
    "                    if list_entrada[0]==k:\n",
    "                        somas.append(v)\n",
    "        list_sum=[]\n",
    "        contador+=1   \n",
    "\n",
    "    #Se ainda tiver numerais depois da última unidade de medida, ele ainda precisa somar os números restantes\n",
    "    j=list_indices[-1]\n",
    "    while j!=len(list_entrada):\n",
    "        for k,v in dict_numerais.items():\n",
    "            if list_entrada[j]==k:\n",
    "                somas2.append(v)\n",
    "        j+=1\n",
    "else:\n",
    "    somas=[v for k,v in dict_numerais.items() for element in list_entrada if element==k]\n",
    "\n",
    "#Obtendo o resultado: se não tiver nenhuma und vai pra primeira operação, se a primeira und for o primeiro item da lista, ele opera a terceia opção e se for diferente, ele faz a segunda.\n",
    "if len(list_und_medidas)==0:\n",
    "    resultado=sum(somas)\n",
    "elif list_indices[0]!=0:\n",
    "    product = [x*y for x,y in zip(somas,list_und_medidas)]\n",
    "    resultado=sum(product)+sum(somas2)\n",
    "else:\n",
    "    resultado=sum(somas)+sum(somas2)\n",
    "\n",
    "print(resultado) \n"
   ]
  },
  {
   "cell_type": "code",
   "execution_count": 233,
   "metadata": {},
   "outputs": [],
   "source": [
    "string2='25k'\n",
    "string2='30g'\n",
    "string2='10m'\n",
    "string2='1m'\n",
    "string2='138k'\n",
    "string2='45 m'\n",
    "string2='25m'\n",
    "string2='100 k'\n",
    "string2='101m'\n",
    "string2='84k'\n",
    "string2='7k'\n",
    "string2='7m'\n",
    "#string2='7g'\n",
    "#string2='128 mil'\n"
   ]
  },
  {
   "cell_type": "code",
   "execution_count": 274,
   "metadata": {},
   "outputs": [
    {
     "name": "stdout",
     "output_type": "stream",
     "text": [
      "True\n",
      "False\n",
      "[7000000]\n"
     ]
    }
   ],
   "source": [
    "print(verificador_digitos(string2))\n",
    "print(verificador_ponto_virgula(string2))\n",
    "\n",
    "\n",
    "#1 Separar dígitos de strings\n",
    "apenas_digitos=[c for c in string2 if c.isdigit()]\n",
    "concatenacao_digitos=[int(''.join(apenas_digitos))]\n",
    "\n",
    "strings=re.sub(\"\\s\", \"\", string2)\n",
    "apenas_string=[und for und in strings if und.isalpha()==True]\n",
    "concatenacao_string=(''.join(apenas_string))\n",
    "und_medida=[v for k,v in dict_unidades_medida.items() if concatenacao_string==k]\n",
    "\n",
    "#Obtendo o resultado\n",
    "resultado=[x*y for x,y in zip(concatenacao_digitos,und_medida) ]\n",
    "print(resultado)\n",
    "\n",
    "\n"
   ]
  },
  {
   "cell_type": "code",
   "execution_count": 346,
   "metadata": {},
   "outputs": [],
   "source": [
    "\n",
    "#Condição de cálculo quando não tiver nem ponto nem vírgula ou seja quando verificador_ponto_vírgula==True\n",
    "string3='1,5k'\n",
    "string3='2,8m'\n",
    "string3='2.98g'\n",
    "string3='325.45k'\n",
    "string3='21.87g'\n",
    "string3='1,325k'\n",
    "string3='21,365m'\n",
    "string3='21,45678g'\n",
    "# string3='36,254136g'\n",
    "# string3='23,32654m'\n",
    "# string3='36,251478g'\n",
    "# string3='369,258741m'\n",
    "# string3='3214,9874g'\n",
    "# string3='9764,326m'\n",
    "# string3='9,58k'\n",
    "# string3='9,25k'\n",
    "# string3='632,251g'\n",
    "# string3='987,254g'\n",
    "# string3='65,21457g'\n",
    "# string3='14,01245g'\n",
    "# string3='987,254m'\n",
    "# string3='654,21365m'"
   ]
  },
  {
   "cell_type": "code",
   "execution_count": 348,
   "metadata": {},
   "outputs": [
    {
     "name": "stdout",
     "output_type": "stream",
     "text": [
      "True\n",
      "True\n",
      "21456780000\n"
     ]
    }
   ],
   "source": [
    "#Condição de cálculo quando não tiver nem ponto nem vírgula ou seja quando verificador_ponto_vírgula==True\n",
    "\n",
    "print(verificador_digitos(string3))\n",
    "print(verificador_ponto_virgula(string3))\n",
    "\n",
    "#identificando a posição da virgula ou ponto\n",
    "x=identificador_posicao_ponto_virgula(string3)\n",
    "\n",
    "#Criando uma lista para separar letras de numeros\n",
    "numbers=[]\n",
    "alphas=[]\n",
    "for element in string3:\n",
    "    if element.isalpha()==True:\n",
    "        alphas.append(element)\n",
    "    else:\n",
    "        numbers.append(element)\n",
    "\n",
    "# Concatenando a lista de numeros\n",
    "apenas_digitos=[c for c in numbers if c.isdigit()]\n",
    "concatenacao_digitos=[int(''.join(apenas_digitos))]\n",
    "\n",
    "#Concatenando string (caso seja escrito 'mil' 'milhoes' e nao 'k' ou 'm')\n",
    "apenas_string=[und for und in alphas if und.isalpha()==True]\n",
    "concatenacao_string=(''.join(apenas_string))\n",
    "\n",
    "#identificando a unidade de medida\n",
    "und_medida=[v for k,v in dict_unidades_medida.items() if concatenacao_string==k]\n",
    "\n",
    "#contando a qtd de 0\n",
    "str_und=[str(und) for und in und_medida]\n",
    "cont=0\n",
    "for n in str_und[0]:\n",
    "    if n=='0':\n",
    "        cont+=1\n",
    "#Iterando und e digitos\n",
    "\n",
    "resultado=str(concatenacao_digitos[0])\n",
    "y=len(resultado)-x\n",
    "if cont==y:\n",
    "    resultado\n",
    "elif cont>y:\n",
    "    while y<cont:\n",
    "        resultado+='0'\n",
    "        y+=1\n",
    "   \n",
    "print(resultado)\n",
    "\n",
    "\n",
    "\n"
   ]
  }
 ],
 "metadata": {
  "kernelspec": {
   "display_name": "Python 3.10.7 64-bit",
   "language": "python",
   "name": "python3"
  },
  "language_info": {
   "codemirror_mode": {
    "name": "ipython",
    "version": 3
   },
   "file_extension": ".py",
   "mimetype": "text/x-python",
   "name": "python",
   "nbconvert_exporter": "python",
   "pygments_lexer": "ipython3",
   "version": "3.10.7"
  },
  "orig_nbformat": 4,
  "vscode": {
   "interpreter": {
    "hash": "5da99af37479dc12aad18d2dd68f57a1750d5b3bf79ff50ca5e8c56abb2c7ff6"
   }
  }
 },
 "nbformat": 4,
 "nbformat_minor": 2
}
